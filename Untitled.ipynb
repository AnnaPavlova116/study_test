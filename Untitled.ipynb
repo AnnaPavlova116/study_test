{
 "cells": [
  {
   "cell_type": "code",
   "execution_count": 1,
   "id": "29ae49e0-f1b3-48b1-8eea-3a43260024ef",
   "metadata": {},
   "outputs": [
    {
     "name": "stdout",
     "output_type": "stream",
     "text": [
      "Requirement already satisfied: jupyterlab-git in c:\\users\\79219\\anaconda3\\lib\\site-packages (0.34.2)\n",
      "Requirement already satisfied: packaging in c:\\users\\79219\\anaconda3\\lib\\site-packages (from jupyterlab-git) (20.9)\n",
      "Requirement already satisfied: pexpect in c:\\users\\79219\\anaconda3\\lib\\site-packages (from jupyterlab-git) (4.8.0)\n",
      "Requirement already satisfied: nbdime~=3.1 in c:\\users\\79219\\anaconda3\\lib\\site-packages (from jupyterlab-git) (3.1.1)\n",
      "Requirement already satisfied: nbformat in c:\\users\\79219\\anaconda3\\lib\\site-packages (from jupyterlab-git) (5.1.3)\n",
      "Requirement already satisfied: jupyter-server in c:\\users\\79219\\anaconda3\\lib\\site-packages (from jupyterlab-git) (1.4.1)\n",
      "Requirement already satisfied: jupyter-server-mathjax>=0.2.2 in c:\\users\\79219\\anaconda3\\lib\\site-packages (from nbdime~=3.1->jupyterlab-git) (0.2.5)\n",
      "Requirement already satisfied: requests in c:\\users\\79219\\anaconda3\\lib\\site-packages (from nbdime~=3.1->jupyterlab-git) (2.25.1)\n",
      "Requirement already satisfied: colorama in c:\\users\\79219\\anaconda3\\lib\\site-packages (from nbdime~=3.1->jupyterlab-git) (0.4.4)\n",
      "Requirement already satisfied: pygments in c:\\users\\79219\\anaconda3\\lib\\site-packages (from nbdime~=3.1->jupyterlab-git) (2.8.1)\n",
      "Requirement already satisfied: jinja2>=2.9 in c:\\users\\79219\\anaconda3\\lib\\site-packages (from nbdime~=3.1->jupyterlab-git) (2.11.3)\n",
      "Requirement already satisfied: GitPython!=2.1.4,!=2.1.5,!=2.1.6 in c:\\users\\79219\\anaconda3\\lib\\site-packages (from nbdime~=3.1->jupyterlab-git) (3.1.27)\n",
      "Requirement already satisfied: tornado in c:\\users\\79219\\anaconda3\\lib\\site-packages (from nbdime~=3.1->jupyterlab-git) (6.1)\n",
      "Requirement already satisfied: gitdb<5,>=4.0.1 in c:\\users\\79219\\anaconda3\\lib\\site-packages (from GitPython!=2.1.4,!=2.1.5,!=2.1.6->nbdime~=3.1->jupyterlab-git) (4.0.9)\n",
      "Requirement already satisfied: smmap<6,>=3.0.1 in c:\\users\\79219\\anaconda3\\lib\\site-packages (from gitdb<5,>=4.0.1->GitPython!=2.1.4,!=2.1.5,!=2.1.6->nbdime~=3.1->jupyterlab-git) (5.0.0)\n",
      "Requirement already satisfied: MarkupSafe>=0.23 in c:\\users\\79219\\anaconda3\\lib\\site-packages (from jinja2>=2.9->nbdime~=3.1->jupyterlab-git) (1.1.1)\n",
      "Requirement already satisfied: jupyter-client>=6.1.1 in c:\\users\\79219\\anaconda3\\lib\\site-packages (from jupyter-server->jupyterlab-git) (6.1.12)\n",
      "Requirement already satisfied: anyio>=2.0.2 in c:\\users\\79219\\anaconda3\\lib\\site-packages (from jupyter-server->jupyterlab-git) (2.2.0)\n",
      "Requirement already satisfied: jupyter-core>=4.4.0 in c:\\users\\79219\\anaconda3\\lib\\site-packages (from jupyter-server->jupyterlab-git) (4.7.1)\n",
      "Requirement already satisfied: pywin32>=1.0 in c:\\users\\79219\\anaconda3\\lib\\site-packages (from jupyter-server->jupyterlab-git) (227)\n",
      "Requirement already satisfied: ipython-genutils in c:\\users\\79219\\anaconda3\\lib\\site-packages (from jupyter-server->jupyterlab-git) (0.2.0)\n",
      "Requirement already satisfied: terminado>=0.8.3 in c:\\users\\79219\\anaconda3\\lib\\site-packages (from jupyter-server->jupyterlab-git) (0.9.4)\n",
      "Requirement already satisfied: pyzmq>=17 in c:\\users\\79219\\anaconda3\\lib\\site-packages (from jupyter-server->jupyterlab-git) (20.0.0)\n",
      "Requirement already satisfied: traitlets>=4.2.1 in c:\\users\\79219\\anaconda3\\lib\\site-packages (from jupyter-server->jupyterlab-git) (5.0.5)\n",
      "Requirement already satisfied: prometheus-client in c:\\users\\79219\\anaconda3\\lib\\site-packages (from jupyter-server->jupyterlab-git) (0.10.1)\n",
      "Requirement already satisfied: Send2Trash in c:\\users\\79219\\anaconda3\\lib\\site-packages (from jupyter-server->jupyterlab-git) (1.5.0)\n",
      "Requirement already satisfied: nbconvert in c:\\users\\79219\\anaconda3\\lib\\site-packages (from jupyter-server->jupyterlab-git) (6.0.7)\n",
      "Requirement already satisfied: sniffio>=1.1 in c:\\users\\79219\\anaconda3\\lib\\site-packages (from anyio>=2.0.2->jupyter-server->jupyterlab-git) (1.2.0)\n",
      "Requirement already satisfied: idna>=2.8 in c:\\users\\79219\\anaconda3\\lib\\site-packages (from anyio>=2.0.2->jupyter-server->jupyterlab-git) (2.10)\n",
      "Requirement already satisfied: python-dateutil>=2.1 in c:\\users\\79219\\anaconda3\\lib\\site-packages (from jupyter-client>=6.1.1->jupyter-server->jupyterlab-git) (2.8.1)\n",
      "Requirement already satisfied: six>=1.5 in c:\\users\\79219\\anaconda3\\lib\\site-packages (from python-dateutil>=2.1->jupyter-client>=6.1.1->jupyter-server->jupyterlab-git) (1.15.0)\n",
      "Requirement already satisfied: pywinpty>=0.5 in c:\\users\\79219\\anaconda3\\lib\\site-packages (from terminado>=0.8.3->jupyter-server->jupyterlab-git) (0.5.7)\n",
      "Requirement already satisfied: testpath in c:\\users\\79219\\anaconda3\\lib\\site-packages (from nbconvert->jupyter-server->jupyterlab-git) (0.4.4)\n",
      "Requirement already satisfied: jupyterlab-pygments in c:\\users\\79219\\anaconda3\\lib\\site-packages (from nbconvert->jupyter-server->jupyterlab-git) (0.1.2)\n",
      "Requirement already satisfied: nbclient<0.6.0,>=0.5.0 in c:\\users\\79219\\anaconda3\\lib\\site-packages (from nbconvert->jupyter-server->jupyterlab-git) (0.5.3)\n",
      "Requirement already satisfied: entrypoints>=0.2.2 in c:\\users\\79219\\anaconda3\\lib\\site-packages (from nbconvert->jupyter-server->jupyterlab-git) (0.3)\n",
      "Requirement already satisfied: bleach in c:\\users\\79219\\anaconda3\\lib\\site-packages (from nbconvert->jupyter-server->jupyterlab-git) (3.3.0)\n",
      "Requirement already satisfied: pandocfilters>=1.4.1 in c:\\users\\79219\\anaconda3\\lib\\site-packages (from nbconvert->jupyter-server->jupyterlab-git) (1.4.3)\n",
      "Requirement already satisfied: defusedxml in c:\\users\\79219\\anaconda3\\lib\\site-packages (from nbconvert->jupyter-server->jupyterlab-git) (0.7.1)\n",
      "Requirement already satisfied: mistune<2,>=0.8.1 in c:\\users\\79219\\anaconda3\\lib\\site-packages (from nbconvert->jupyter-server->jupyterlab-git) (0.8.4)\n",
      "Requirement already satisfied: nest-asyncio in c:\\users\\79219\\anaconda3\\lib\\site-packages (from nbclient<0.6.0,>=0.5.0->nbconvert->jupyter-server->jupyterlab-git) (1.5.1)\n",
      "Requirement already satisfied: async-generator in c:\\users\\79219\\anaconda3\\lib\\site-packages (from nbclient<0.6.0,>=0.5.0->nbconvert->jupyter-server->jupyterlab-git) (1.10)\n",
      "Requirement already satisfied: jsonschema!=2.5.0,>=2.4 in c:\\users\\79219\\anaconda3\\lib\\site-packages (from nbformat->jupyterlab-git) (3.2.0)\n",
      "Requirement already satisfied: setuptools in c:\\users\\79219\\anaconda3\\lib\\site-packages (from jsonschema!=2.5.0,>=2.4->nbformat->jupyterlab-git) (52.0.0.post20210125)\n",
      "Requirement already satisfied: pyrsistent>=0.14.0 in c:\\users\\79219\\anaconda3\\lib\\site-packages (from jsonschema!=2.5.0,>=2.4->nbformat->jupyterlab-git) (0.17.3)\n",
      "Requirement already satisfied: attrs>=17.4.0 in c:\\users\\79219\\anaconda3\\lib\\site-packages (from jsonschema!=2.5.0,>=2.4->nbformat->jupyterlab-git) (20.3.0)\n",
      "Requirement already satisfied: webencodings in c:\\users\\79219\\anaconda3\\lib\\site-packages (from bleach->nbconvert->jupyter-server->jupyterlab-git) (0.5.1)\n",
      "Requirement already satisfied: pyparsing>=2.0.2 in c:\\users\\79219\\anaconda3\\lib\\site-packages (from packaging->jupyterlab-git) (2.4.7)\n",
      "Requirement already satisfied: ptyprocess>=0.5 in c:\\users\\79219\\anaconda3\\lib\\site-packages (from pexpect->jupyterlab-git) (0.7.0)\n",
      "Requirement already satisfied: certifi>=2017.4.17 in c:\\users\\79219\\anaconda3\\lib\\site-packages (from requests->nbdime~=3.1->jupyterlab-git) (2020.12.5)\n",
      "Requirement already satisfied: urllib3<1.27,>=1.21.1 in c:\\users\\79219\\anaconda3\\lib\\site-packages (from requests->nbdime~=3.1->jupyterlab-git) (1.26.4)\n",
      "Requirement already satisfied: chardet<5,>=3.0.2 in c:\\users\\79219\\anaconda3\\lib\\site-packages (from requests->nbdime~=3.1->jupyterlab-git) (4.0.0)\n"
     ]
    }
   ],
   "source": [
    "!pip install jupyterlab-git"
   ]
  },
  {
   "cell_type": "code",
   "execution_count": 2,
   "id": "15f58321-dcde-44f0-a450-1e402bc9745b",
   "metadata": {},
   "outputs": [
    {
     "name": "stdout",
     "output_type": "stream",
     "text": [
      "keep calm and study Git\n"
     ]
    }
   ],
   "source": [
    "print('keep calm and study Git')"
   ]
  },
  {
   "cell_type": "code",
   "execution_count": 3,
   "id": "e450d728-83d3-47cd-a7a8-a3b7f694a422",
   "metadata": {},
   "outputs": [
    {
     "name": "stdout",
     "output_type": "stream",
     "text": [
      "Reinitialized existing Git repository in C:/Users/79219/.git/\n"
     ]
    }
   ],
   "source": [
    "!git init"
   ]
  },
  {
   "cell_type": "code",
   "execution_count": 4,
   "id": "ca5e277b-e047-458e-b1b6-953edb468fc6",
   "metadata": {},
   "outputs": [
    {
     "name": "stderr",
     "output_type": "stream",
     "text": [
      "warning: LF will be replaced by CRLF in Untitled.ipynb.\n",
      "The file will have its original line endings in your working directory\n"
     ]
    }
   ],
   "source": [
    "!git add Untitled.ipynb"
   ]
  },
  {
   "cell_type": "code",
   "execution_count": 5,
   "id": "21014b06-7c69-479a-86ec-a016d3cd6df0",
   "metadata": {},
   "outputs": [
    {
     "name": "stderr",
     "output_type": "stream",
     "text": [
      "error: pathspec 'commit'' did not match any file(s) known to git\n"
     ]
    }
   ],
   "source": [
    "!git commit -m 'first commit'"
   ]
  },
  {
   "cell_type": "code",
   "execution_count": null,
   "id": "87bab11d-ee3f-4a5e-a349-7006fefeb369",
   "metadata": {},
   "outputs": [],
   "source": []
  }
 ],
 "metadata": {
  "kernelspec": {
   "display_name": "Python 3",
   "language": "python",
   "name": "python3"
  },
  "language_info": {
   "codemirror_mode": {
    "name": "ipython",
    "version": 3
   },
   "file_extension": ".py",
   "mimetype": "text/x-python",
   "name": "python",
   "nbconvert_exporter": "python",
   "pygments_lexer": "ipython3",
   "version": "3.8.8"
  }
 },
 "nbformat": 4,
 "nbformat_minor": 5
}
